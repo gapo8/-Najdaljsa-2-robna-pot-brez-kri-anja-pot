{
 "cells": [
  {
   "cell_type": "markdown",
   "metadata": {
    "collapsed": false
   },
   "source": [
    "# Maksimizacija vsote robov"
   ]
  },
  {
   "cell_type": "code",
   "execution_count": 1,
   "metadata": {
    "collapsed": false
   },
   "outputs": [
   ],
   "source": [
    "clp = MixedIntegerLinearProgram(maximization=True)"
   ]
  },
  {
   "cell_type": "code",
   "execution_count": 2,
   "metadata": {
    "collapsed": false,
    "scrolled": true
   },
   "outputs": [
   ],
   "source": [
    "x = clp.new_variable(binary=True)"
   ]
  },
  {
   "cell_type": "code",
   "execution_count": 3,
   "metadata": {
    "collapsed": false
   },
   "outputs": [
   ],
   "source": [
    "n = 12"
   ]
  },
  {
   "cell_type": "code",
   "execution_count": 4,
   "metadata": {
    "collapsed": false
   },
   "outputs": [
   ],
   "source": [
    "for i in range(n):\n",
    "    clp.add_constraint(sum(x[i, j] + 2*x[j, i] for j in range(n)) == 2)"
   ]
  },
  {
   "cell_type": "markdown",
   "metadata": {
    "collapsed": false
   },
   "source": [
    "## Naključni izbor točk"
   ]
  },
  {
   "cell_type": "code",
   "execution_count": 5,
   "metadata": {
    "collapsed": false
   },
   "outputs": [
   ],
   "source": [
    "p = {i: (random(), random()) for i in range(n)}"
   ]
  },
  {
   "cell_type": "code",
   "execution_count": 6,
   "metadata": {
    "collapsed": false
   },
   "outputs": [
    {
     "data": {
      "text/plain": [
       "dict_keys([0, 1, 2, 3, 4, 5, 6, 7, 8, 9, 10, 11])"
      ]
     },
     "execution_count": 6,
     "metadata": {
     },
     "output_type": "execute_result"
    }
   ],
   "source": [
    "p.keys()"
   ]
  },
  {
   "cell_type": "code",
   "execution_count": 7,
   "metadata": {
    "collapsed": false
   },
   "outputs": [
    {
     "data": {
      "text/plain": [
       "dict_values([(0.6887099692480472, 0.9322832924945672), (0.7438178800504593, 0.06224414505163034), (0.6055308655805036, 0.022798265304523224), (0.6243013520170636, 0.7650205605996576), (0.7604298074294689, 0.28858822644093296), (0.6272833132562574, 0.5700424036045686), (0.7118740346590944, 0.4909871227635574), (0.4585494156697376, 0.2272534029836193), (0.6592811917502632, 0.24615019606476463), (0.8652278030437257, 0.2948722780657941), (0.5189564107741171, 0.9283632900030229), (0.8253531692225035, 0.39170018679125085)])"
      ]
     },
     "execution_count": 7,
     "metadata": {
     },
     "output_type": "execute_result"
    }
   ],
   "source": [
    "p.values()"
   ]
  },
  {
   "cell_type": "markdown",
   "metadata": {
    "collapsed": false
   },
   "source": [
    "## V matriki M so dolžine med točkami"
   ]
  },
  {
   "cell_type": "code",
   "execution_count": 8,
   "metadata": {
    "collapsed": false
   },
   "outputs": [
   ],
   "source": [
    "M = matrix(RR,n)\n"
   ]
  },
  {
   "cell_type": "code",
   "execution_count": 9,
   "metadata": {
    "collapsed": false
   },
   "outputs": [
   ],
   "source": [
    "for i in range(n):\n",
    "    for j in range(n):\n",
    "        M[i,j] = (((p[i][0])-(p[j][0]))^2 + ((p[i][1])-(p[j][1]))^2)^((0.5))"
   ]
  },
  {
   "cell_type": "code",
   "execution_count": 10,
   "metadata": {
    "collapsed": false
   },
   "outputs": [
    {
     "data": {
      "text/plain": [
       "'[0.000000000000000 0.871782656352051 0.913280777181810 0.179235296341306 0.647678217366125 0.367412160454917 0.441903703702093 0.741647507598653 0.686763917923301 0.661401048504639 0.169798813406030 0.557585382045747]\\n[0.871782656352051 0.000000000000000 0.143802906090374 0.712866671070889 0.226952857023684 0.520998442077622 0.429931331953927 0.329554474970984 0.202405255040501 0.262404683020114 0.894832416498445 0.339395472596656]\\n[0.913280777181810 0.143802906090374 0.000000000000000 0.742459606170088 0.307632874749795 0.547676287494397 0.480114232093232 0.251804388248595 0.229728497443576 0.376120682424932 0.909693987108971 0.429430405135774]\\n[0.179235296341306 0.712866671070889 0.742459606170088 0.000000000000000 0.495498461556540 0.195000958454141 0.287686113320392 0.562731925710032 0.520048117370242 0.528284925370622 0.194366673826613 0.424016432113259]\\n[0.647678217366125 0.226952857023684 0.307632874749795 0.495498461556540 0.000000000000000 0.311359025489026 0.208141721675268 0.308048261636953 0.109690605231388 0.104986233333660 0.683828584696596 0.121848755733470]\\n[0.367412160454917 0.520998442077622 0.547676287494397 0.195000958454141 0.311359025489026 0.000000000000000 0.115781378365882 0.382067307082728 0.325468932976904 0.363780398330151 0.374337515393193 0.266528824220529]\\n[0.441903703702093 0.429931331953927 0.480114232093232 0.287686113320392 0.208141721675268 0.115781378365882 0.000000000000000 0.365689537087221 0.250421899602537 0.248954635603748 0.478032552525987 0.150782656947108]\\n[0.741647507598653 0.329554474970984 0.251804388248595 0.562731925710032 0.308048261636953 0.382067307082728 0.365689537087221 0.000000000000000 0.201619281610648 0.412261595379058 0.703707381468961 0.401979773527316]\\n[0.686763917923301 0.202405255040501 0.229728497443576 0.520048117370242 0.109690605231388 0.325468932976904 0.250421899602537 0.201619281610648 0.000000000000000 0.211631396484018 0.696495333578635 0.220827311494798]\\n[0.661401048504639 0.262404683020114 0.376120682424932 0.528284925370622 0.104986233333660 0.363780398330151 0.248954635603748 0.412261595379058 0.211631396484018 0.000000000000000 0.721952033939643 0.104716905657692]\\n[0.169798813406030 0.894832416498445 0.909693987108971 0.194366673826613 0.683828584696596 0.374337515393193 0.478032552525987 0.703707381468961 0.696495333578635 0.721952033939643 0.000000000000000 0.617969465213750]\\n[0.557585382045747 0.339395472596656 0.429430405135774 0.424016432113259 0.121848755733470 0.266528824220529 0.150782656947108 0.401979773527316 0.220827311494798 0.104716905657692 0.617969465213750 0.000000000000000]'"
      ]
     },
     "execution_count": 10,
     "metadata": {
     },
     "output_type": "execute_result"
    }
   ],
   "source": [
    "str(M)"
   ]
  },
  {
   "cell_type": "markdown",
   "metadata": {
    "collapsed": false
   },
   "source": [
    "## Funkcija 'seka' pove ali daljica ij seka daljico lk"
   ]
  },
  {
   "cell_type": "code",
   "execution_count": 11,
   "metadata": {
    "collapsed": false
   },
   "outputs": [
   ],
   "source": [
    "def zasuk(a,b,c):\n",
    "    A = matrix(RR,3)\n",
    "    A[0] = (1, p[a][0],p[a][1])\n",
    "    A[1] = (1, p[b][0],p[b][1])\n",
    "    A[2] = (1, p[c][0],p[c][1])\n",
    "    return(det(A))"
   ]
  },
  {
   "cell_type": "code",
   "execution_count": 12,
   "metadata": {
    "collapsed": false
   },
   "outputs": [
   ],
   "source": [
    "def seka(a,b,c,d):\n",
    "    if zasuk(a,b,c)*zasuk(a,b,d)<0 and zasuk(a,c,d)*zasuk(b,c,d)<0:\n",
    "        return(1)\n",
    "    else:\n",
    "        return(0)"
   ]
  },
  {
   "cell_type": "code",
   "execution_count": 13,
   "metadata": {
    "collapsed": false
   },
   "outputs": [
    {
     "data": {
      "text/plain": [
       "0"
      ]
     },
     "execution_count": 13,
     "metadata": {
     },
     "output_type": "execute_result"
    }
   ],
   "source": [
    "seka(1,2,3,4)"
   ]
  },
  {
   "cell_type": "code",
   "execution_count": 14,
   "metadata": {
    "collapsed": false
   },
   "outputs": [
    {
     "data": {
      "text/plain": [
       "-0.101899286938631"
      ]
     },
     "execution_count": 14,
     "metadata": {
     },
     "output_type": "execute_result"
    }
   ],
   "source": [
    "zasuk(1,2,3)"
   ]
  },
  {
   "cell_type": "code",
   "execution_count": 15,
   "metadata": {
    "collapsed": false
   },
   "outputs": [
   ],
   "source": [
    "for i in range(n):\n",
    "    for j in range(n):\n",
    "        for k in range(n):\n",
    "            for l in range(n):\n",
    "                clp.add_constraint(x[i,j]+x[j,i]+x[k,l]+x[l,k]+seka(i,j,k,l)<=2)"
   ]
  },
  {
   "cell_type": "code",
   "execution_count": 16,
   "metadata": {
    "collapsed": false
   },
   "outputs": [
   ],
   "source": [
    "clp.set_objective(sum(x[i, j]*M[i,j] for i in range(n) for j in range(n)))"
   ]
  },
  {
   "cell_type": "code",
   "execution_count": 17,
   "metadata": {
    "collapsed": false
   },
   "outputs": [
    {
     "data": {
      "text/plain": [
       "4.5373244893464255"
      ]
     },
     "execution_count": 17,
     "metadata": {
     },
     "output_type": "execute_result"
    }
   ],
   "source": [
    "clp.solve()"
   ]
  },
  {
   "cell_type": "code",
   "execution_count": 18,
   "metadata": {
    "collapsed": false
   },
   "outputs": [
    {
     "data": {
      "text/plain": [
       "{(0, 0): 0.0,\n",
       " (0, 1): 0.0,\n",
       " (1, 0): 0.0,\n",
       " (0, 2): 0.0,\n",
       " (2, 0): 0.0,\n",
       " (0, 3): 0.0,\n",
       " (3, 0): 0.0,\n",
       " (0, 4): 1.0,\n",
       " (4, 0): 0.0,\n",
       " (0, 5): 0.0,\n",
       " (5, 0): 0.0,\n",
       " (0, 6): 0.0,\n",
       " (6, 0): 0.0,\n",
       " (0, 7): 0.0,\n",
       " (7, 0): 0.0,\n",
       " (0, 8): 0.0,\n",
       " (8, 0): 0.0,\n",
       " (0, 9): 1.0,\n",
       " (9, 0): 0.0,\n",
       " (0, 10): 0.0,\n",
       " (10, 0): 0.0,\n",
       " (0, 11): 0.0,\n",
       " (11, 0): 0.0,\n",
       " (1, 1): 0.0,\n",
       " (1, 2): 0.0,\n",
       " (2, 1): 0.0,\n",
       " (1, 3): 0.0,\n",
       " (3, 1): 0.0,\n",
       " (1, 4): 0.0,\n",
       " (4, 1): 0.0,\n",
       " (1, 5): 0.0,\n",
       " (5, 1): 0.0,\n",
       " (1, 6): 1.0,\n",
       " (6, 1): 0.0,\n",
       " (1, 7): 0.0,\n",
       " (7, 1): 0.0,\n",
       " (1, 8): 0.0,\n",
       " (8, 1): 0.0,\n",
       " (1, 9): 0.0,\n",
       " (9, 1): 0.0,\n",
       " (1, 10): 0.0,\n",
       " (10, 1): 0.0,\n",
       " (1, 11): 1.0,\n",
       " (11, 1): 0.0,\n",
       " (2, 2): 0.0,\n",
       " (2, 3): 0.0,\n",
       " (3, 2): 0.0,\n",
       " (2, 4): 0.0,\n",
       " (4, 2): 0.0,\n",
       " (2, 5): 0.0,\n",
       " (5, 2): 0.0,\n",
       " (2, 6): 0.0,\n",
       " (6, 2): 0.0,\n",
       " (2, 7): 0.0,\n",
       " (7, 2): 0.0,\n",
       " (2, 8): 0.0,\n",
       " (8, 2): 0.0,\n",
       " (2, 9): 0.0,\n",
       " (9, 2): 0.0,\n",
       " (2, 10): 0.0,\n",
       " (10, 2): 1.0,\n",
       " (2, 11): 0.0,\n",
       " (11, 2): 0.0,\n",
       " (3, 3): 0.0,\n",
       " (3, 4): 0.0,\n",
       " (4, 3): 0.0,\n",
       " (3, 5): 0.0,\n",
       " (5, 3): 0.0,\n",
       " (3, 6): 0.0,\n",
       " (6, 3): 0.0,\n",
       " (3, 7): 0.0,\n",
       " (7, 3): 0.0,\n",
       " (3, 8): 0.0,\n",
       " (8, 3): 1.0,\n",
       " (3, 9): 0.0,\n",
       " (9, 3): 0.0,\n",
       " (3, 10): 0.0,\n",
       " (10, 3): 0.0,\n",
       " (3, 11): 0.0,\n",
       " (11, 3): 0.0,\n",
       " (4, 4): 0.0,\n",
       " (4, 5): 0.0,\n",
       " (5, 4): 0.0,\n",
       " (4, 6): 0.0,\n",
       " (6, 4): 0.0,\n",
       " (4, 7): 0.0,\n",
       " (7, 4): 0.0,\n",
       " (4, 8): 0.0,\n",
       " (8, 4): 0.0,\n",
       " (4, 9): 0.0,\n",
       " (9, 4): 0.0,\n",
       " (4, 10): 0.0,\n",
       " (10, 4): 0.0,\n",
       " (4, 11): 0.0,\n",
       " (11, 4): 0.0,\n",
       " (5, 5): 0.0,\n",
       " (5, 6): 0.0,\n",
       " (6, 5): 0.0,\n",
       " (5, 7): 0.0,\n",
       " (7, 5): 0.0,\n",
       " (5, 8): 0.0,\n",
       " (8, 5): 1.0,\n",
       " (5, 9): 0.0,\n",
       " (9, 5): 0.0,\n",
       " (5, 10): 0.0,\n",
       " (10, 5): 0.0,\n",
       " (5, 11): 0.0,\n",
       " (11, 5): 0.0,\n",
       " (6, 6): 0.0,\n",
       " (6, 7): 0.0,\n",
       " (7, 6): 0.0,\n",
       " (6, 8): 0.0,\n",
       " (8, 6): 0.0,\n",
       " (6, 9): 0.0,\n",
       " (9, 6): 0.0,\n",
       " (6, 10): 0.0,\n",
       " (10, 6): 0.0,\n",
       " (6, 11): 0.0,\n",
       " (11, 6): 0.0,\n",
       " (7, 7): 0.0,\n",
       " (7, 8): 0.0,\n",
       " (8, 7): 0.0,\n",
       " (7, 9): 0.0,\n",
       " (9, 7): 0.0,\n",
       " (7, 10): 0.0,\n",
       " (10, 7): 1.0,\n",
       " (7, 11): 0.0,\n",
       " (11, 7): 0.0,\n",
       " (8, 8): 0.0,\n",
       " (8, 9): 0.0,\n",
       " (9, 8): 0.0,\n",
       " (8, 10): 0.0,\n",
       " (10, 8): 0.0,\n",
       " (8, 11): 0.0,\n",
       " (11, 8): 0.0,\n",
       " (9, 9): 0.0,\n",
       " (9, 10): 0.0,\n",
       " (10, 9): 0.0,\n",
       " (9, 11): 0.0,\n",
       " (11, 9): 0.0,\n",
       " (10, 10): 0.0,\n",
       " (10, 11): 0.0,\n",
       " (11, 10): 0.0,\n",
       " (11, 11): 0.0}"
      ]
     },
     "execution_count": 18,
     "metadata": {
     },
     "output_type": "execute_result"
    }
   ],
   "source": [
    "povezave = clp.get_values(x)\n",
    "povezave"
   ]
  },
  {
   "cell_type": "code",
   "execution_count": 19,
   "metadata": {
    "collapsed": false
   },
   "outputs": [
   ],
   "source": [
    "G = Graph([e for e, v in clp.get_values(x).items() if v == 1])\n",
    "G._pos = p"
   ]
  },
  {
   "cell_type": "code",
   "execution_count": 20,
   "metadata": {
    "collapsed": false,
    "scrolled": true
   },
   "outputs": [
    {
     "data": {
      "image/png": "[encoded data removed]",
      "text/plain": [
       "Graphics object consisting of 21 graphics primitives"
      ]
     },
     "execution_count": 20,
     "metadata": {
     },
     "output_type": "execute_result"
    }
   ],
   "source": [
    "G.plot()"
   ]
  },
  {
   "cell_type": "markdown",
   "metadata": {
    "collapsed": false
   },
   "source": [
    "# Maksimizacija najkrajšega roba"
   ]
  },
  {
   "cell_type": "code",
   "execution_count": 24,
   "metadata": {
    "collapsed": false
   },
   "outputs": [
   ],
   "source": [
    "clp2 = MixedIntegerLinearProgram(maximization=True)"
   ]
  },
  {
   "cell_type": "code",
   "execution_count": 25,
   "metadata": {
    "collapsed": false
   },
   "outputs": [
   ],
   "source": [
    "y = clp2.new_variable(binary=True)"
   ]
  },
  {
   "cell_type": "code",
   "execution_count": 26,
   "metadata": {
    "collapsed": false
   },
   "outputs": [
   ],
   "source": [
    "for i in range(n):\n",
    "    clp2.add_constraint(sum(y[i, j] + 2*y[j, i] for j in range(n)) == 2)"
   ]
  },
  {
   "cell_type": "code",
   "execution_count": 27,
   "metadata": {
    "collapsed": false
   },
   "outputs": [
   ],
   "source": [
    "for i in range(n):\n",
    "    for j in range(n):\n",
    "        for k in range(n):\n",
    "            for l in range(n):\n",
    "                clp2.add_constraint(y[i,j]+y[j,i]+y[k,l]+y[l,k]+seka(i,j,k,l)<=2)"
   ]
  },
  {
   "cell_type": "code",
   "execution_count": 28,
   "metadata": {
    "collapsed": false
   },
   "outputs": [
   ],
   "source": [
    "from heapq import nlargest"
   ]
  },
  {
   "cell_type": "code",
   "execution_count": 29,
   "metadata": {
    "collapsed": false
   },
   "outputs": [
    {
     "data": {
      "text/plain": [
       "[0.913280777181810, 0.913280777181810, 0.909693987108971]"
      ]
     },
     "execution_count": 29,
     "metadata": {
     },
     "output_type": "execute_result"
    }
   ],
   "source": [
    "nlargest(3,(M[i,j] for i in range(n) for j in range(n)))"
   ]
  },
  {
   "cell_type": "code",
   "execution_count": 81,
   "metadata": {
    "collapsed": false,
    "scrolled": true
   },
   "outputs": [
    {
     "data": {
      "text/plain": [
       "[0.000000000000000,\n",
       " 0.000000000000000,\n",
       " 0.000000000000000,\n",
       " 0.000000000000000,\n",
       " 0.000000000000000,\n",
       " 0.000000000000000,\n",
       " 0.000000000000000,\n",
       " 0.000000000000000,\n",
       " 0.000000000000000,\n",
       " 0.0795404998181121,\n",
       " 0.0795404998181121,\n",
       " 0.0953065800488907,\n",
       " 0.0953065800488907,\n",
       " 0.156359879053657,\n",
       " 0.156359879053657,\n",
       " 0.161422594503783,\n",
       " 0.161422594503783,\n",
       " 0.228250993293199,\n",
       " 0.228250993293199,\n",
       " 0.246840158532472,\n",
       " 0.246840158532472,\n",
       " 0.251113727077339,\n",
       " 0.251113727077339,\n",
       " 0.322094830726306,\n",
       " 0.322094830726306,\n",
       " 0.348601695753781,\n",
       " 0.348601695753781,\n",
       " 0.449281066700106,\n",
       " 0.449281066700106,\n",
       " 0.496955712998949,\n",
       " 0.496955712998949,\n",
       " 0.518281827275488,\n",
       " 0.518281827275488,\n",
       " 0.526282510378465,\n",
       " 0.526282510378465,\n",
       " 0.558020329542142,\n",
       " 0.558020329542142,\n",
       " 0.564967646846127,\n",
       " 0.564967646846127,\n",
       " 0.615481011331659,\n",
       " 0.615481011331659,\n",
       " 0.641584936909012,\n",
       " 0.641584936909012,\n",
       " 0.668530672442328,\n",
       " 0.668530672442328,\n",
       " 0.676913834534086,\n",
       " 0.676913834534086,\n",
       " 0.680905338920181,\n",
       " 0.680905338920181,\n",
       " 0.681612534873343,\n",
       " 0.681612534873343,\n",
       " 0.684724615105488,\n",
       " 0.684724615105488,\n",
       " 0.692593416974298,\n",
       " 0.692593416974298,\n",
       " 0.712406764263711,\n",
       " 0.712406764263711,\n",
       " 0.721320914431802,\n",
       " 0.721320914431802,\n",
       " 0.740365031011966,\n",
       " 0.740365031011966,\n",
       " 0.781291267503900,\n",
       " 0.781291267503900,\n",
       " 0.819666357626331,\n",
       " 0.819666357626331,\n",
       " 0.822572523905014,\n",
       " 0.822572523905014,\n",
       " 0.831261674749422,\n",
       " 0.831261674749422,\n",
       " 0.882340221392641,\n",
       " 0.882340221392641,\n",
       " 0.904722878214947,\n",
       " 0.904722878214947,\n",
       " 0.958301770693986,\n",
       " 0.958301770693986,\n",
       " 1.02519359300568,\n",
       " 1.02519359300568,\n",
       " 1.11739362827963,\n",
       " 1.11739362827963,\n",
       " 1.17124555097897,\n",
       " 1.17124555097897]"
      ]
     },
     "execution_count": 81,
     "metadata": {
     },
     "output_type": "execute_result"
    }
   ],
   "source": [
    "sorted(M[i,j] for i in range(n) for j in range(n))"
   ]
  },
  {
   "cell_type": "code",
   "execution_count": 65,
   "metadata": {
    "collapsed": false
   },
   "outputs": [
    {
     "data": {
      "text/plain": [
       "1.02519359300568"
      ]
     },
     "execution_count": 65,
     "metadata": {
     },
     "output_type": "execute_result"
    }
   ],
   "source": [
    "sorted(M[i,j] for i in range(n) for j in range(n))[-6]"
   ]
  },
  {
   "cell_type": "code",
   "execution_count": 56,
   "metadata": {
    "collapsed": false
   },
   "outputs": [
    {
     "data": {
      "text/plain": [
       "1.17124555097897"
      ]
     },
     "execution_count": 56,
     "metadata": {
     },
     "output_type": "execute_result"
    }
   ],
   "source": [
    "max_symbolic(M[i,j] for i in range(n) for j in range(n))"
   ]
  },
  {
   "cell_type": "code",
   "execution_count": 71,
   "metadata": {
    "collapsed": false
   },
   "outputs": [
    {
     "data": {
      "text/plain": [
       "0.0795404998181121"
      ]
     },
     "execution_count": 71,
     "metadata": {
     },
     "output_type": "execute_result"
    }
   ],
   "source": [
    "min_symbolic(M[i,j] for i in range(n) for j in range(i+1,n))"
   ]
  },
  {
   "cell_type": "markdown",
   "metadata": {
    "collapsed": false
   },
   "source": [
    "## Težava ker ne dovoli < ampak potrebujem <="
   ]
  },
  {
   "cell_type": "code",
   "execution_count": 30,
   "metadata": {
    "collapsed": false
   },
   "outputs": [
    {
     "ename": "ValueError",
     "evalue": "strict < is not allowed, use <= instead",
     "output_type": "error",
     "traceback": [
      "\u001b[0;31m---------------------------------------------------------------------------\u001b[0m",
      "\u001b[0;31mValueError\u001b[0m                                Traceback (most recent call last)",
      "\u001b[0;32m<ipython-input-30-7cb07648a6bc>\u001b[0m in \u001b[0;36m<module>\u001b[0;34m\u001b[0m\n\u001b[0;32m----> 1\u001b[0;31m \u001b[0mclp2\u001b[0m\u001b[0;34m.\u001b[0m\u001b[0mset_objective\u001b[0m\u001b[0;34m(\u001b[0m\u001b[0mmin_symbolic\u001b[0m\u001b[0;34m(\u001b[0m\u001b[0mnlargest\u001b[0m\u001b[0;34m(\u001b[0m\u001b[0mn\u001b[0m\u001b[0;34m*\u001b[0m\u001b[0;34m(\u001b[0m\u001b[0mInteger\u001b[0m\u001b[0;34m(\u001b[0m\u001b[0;36m2\u001b[0m\u001b[0;34m)\u001b[0m\u001b[0;34m/\u001b[0m\u001b[0mInteger\u001b[0m\u001b[0;34m(\u001b[0m\u001b[0;36m3\u001b[0m\u001b[0;34m)\u001b[0m\u001b[0;34m)\u001b[0m\u001b[0;34m,\u001b[0m\u001b[0;34m(\u001b[0m\u001b[0my\u001b[0m\u001b[0;34m[\u001b[0m\u001b[0mi\u001b[0m\u001b[0;34m,\u001b[0m\u001b[0mj\u001b[0m\u001b[0;34m]\u001b[0m\u001b[0;34m*\u001b[0m\u001b[0mM\u001b[0m\u001b[0;34m[\u001b[0m\u001b[0mi\u001b[0m\u001b[0;34m,\u001b[0m\u001b[0mj\u001b[0m\u001b[0;34m]\u001b[0m \u001b[0;32mfor\u001b[0m \u001b[0mi\u001b[0m \u001b[0;32min\u001b[0m \u001b[0mrange\u001b[0m\u001b[0;34m(\u001b[0m\u001b[0mn\u001b[0m\u001b[0;34m)\u001b[0m \u001b[0;32mfor\u001b[0m \u001b[0mj\u001b[0m \u001b[0;32min\u001b[0m \u001b[0mrange\u001b[0m\u001b[0;34m(\u001b[0m\u001b[0mn\u001b[0m\u001b[0;34m)\u001b[0m\u001b[0;34m)\u001b[0m\u001b[0;34m)\u001b[0m\u001b[0;34m)\u001b[0m\u001b[0;34m)\u001b[0m\u001b[0;34m\u001b[0m\u001b[0;34m\u001b[0m\u001b[0m\n\u001b[0m",
      "\u001b[0;32m/ext/sage/9.4/local/lib/python3.9/heapq.py\u001b[0m in \u001b[0;36mnlargest\u001b[0;34m(n, iterable, key)\u001b[0m\n\u001b[1;32m    552\u001b[0m         \u001b[0m_heapreplace\u001b[0m \u001b[0;34m=\u001b[0m \u001b[0mheapreplace\u001b[0m\u001b[0;34m\u001b[0m\u001b[0;34m\u001b[0m\u001b[0m\n\u001b[1;32m    553\u001b[0m         \u001b[0;32mfor\u001b[0m \u001b[0melem\u001b[0m \u001b[0;32min\u001b[0m \u001b[0mit\u001b[0m\u001b[0;34m:\u001b[0m\u001b[0;34m\u001b[0m\u001b[0;34m\u001b[0m\u001b[0m\n\u001b[0;32m--> 554\u001b[0;31m             \u001b[0;32mif\u001b[0m \u001b[0mtop\u001b[0m \u001b[0;34m<\u001b[0m \u001b[0melem\u001b[0m\u001b[0;34m:\u001b[0m\u001b[0;34m\u001b[0m\u001b[0;34m\u001b[0m\u001b[0m\n\u001b[0m\u001b[1;32m    555\u001b[0m                 \u001b[0m_heapreplace\u001b[0m\u001b[0;34m(\u001b[0m\u001b[0mresult\u001b[0m\u001b[0;34m,\u001b[0m \u001b[0;34m(\u001b[0m\u001b[0melem\u001b[0m\u001b[0;34m,\u001b[0m \u001b[0morder\u001b[0m\u001b[0;34m)\u001b[0m\u001b[0;34m)\u001b[0m\u001b[0;34m\u001b[0m\u001b[0;34m\u001b[0m\u001b[0m\n\u001b[1;32m    556\u001b[0m                 \u001b[0mtop\u001b[0m\u001b[0;34m,\u001b[0m \u001b[0m_order\u001b[0m \u001b[0;34m=\u001b[0m \u001b[0mresult\u001b[0m\u001b[0;34m[\u001b[0m\u001b[0;36m0\u001b[0m\u001b[0;34m]\u001b[0m\u001b[0;34m\u001b[0m\u001b[0;34m\u001b[0m\u001b[0m\n",
      "\u001b[0;32m/ext/sage/9.4/local/lib/python3.9/site-packages/sage/numerical/linear_functions.pyx\u001b[0m in \u001b[0;36msage.numerical.linear_functions.LinearFunctionOrConstraint.__richcmp__ (build/cythonized/sage/numerical/linear_functions.c:3630)\u001b[0;34m()\u001b[0m\n\u001b[1;32m    374\u001b[0m             \u001b[0mequality\u001b[0m \u001b[0;34m=\u001b[0m \u001b[0;32mTrue\u001b[0m\u001b[0;34m\u001b[0m\u001b[0;34m\u001b[0m\u001b[0m\n\u001b[1;32m    375\u001b[0m         \u001b[0;32melif\u001b[0m \u001b[0mop\u001b[0m \u001b[0;34m==\u001b[0m \u001b[0mPy_LT\u001b[0m\u001b[0;34m:\u001b[0m\u001b[0;34m\u001b[0m\u001b[0;34m\u001b[0m\u001b[0m\n\u001b[0;32m--> 376\u001b[0;31m             \u001b[0;32mraise\u001b[0m \u001b[0mValueError\u001b[0m\u001b[0;34m(\u001b[0m\u001b[0;34m\"strict < is not allowed, use <= instead\"\u001b[0m\u001b[0;34m)\u001b[0m\u001b[0;34m\u001b[0m\u001b[0;34m\u001b[0m\u001b[0m\n\u001b[0m\u001b[1;32m    377\u001b[0m         \u001b[0;32melif\u001b[0m \u001b[0mop\u001b[0m \u001b[0;34m==\u001b[0m \u001b[0mPy_GT\u001b[0m\u001b[0;34m:\u001b[0m\u001b[0;34m\u001b[0m\u001b[0;34m\u001b[0m\u001b[0m\n\u001b[1;32m    378\u001b[0m             \u001b[0;32mraise\u001b[0m \u001b[0mValueError\u001b[0m\u001b[0;34m(\u001b[0m\u001b[0;34m\"strict > is not allowed, use >= instead\"\u001b[0m\u001b[0;34m)\u001b[0m\u001b[0;34m\u001b[0m\u001b[0;34m\u001b[0m\u001b[0m\n",
      "\u001b[0;31mValueError\u001b[0m: strict < is not allowed, use <= instead"
     ]
    }
   ],
   "source": [
    "clp2.set_objective(min_symbolic(nlargest(n*(2/3),(y[i,j]*M[i,j] for i in range(n) for j in range(n)))))"
   ]
  },
  {
   "cell_type": "code",
   "execution_count": 31,
   "metadata": {
    "collapsed": false
   },
   "outputs": [
    {
     "data": {
      "text/plain": [
       "0.0"
      ]
     },
     "execution_count": 31,
     "metadata": {
     },
     "output_type": "execute_result"
    }
   ],
   "source": [
    "clp2.solve()"
   ]
  },
  {
   "cell_type": "code",
   "execution_count": 76,
   "metadata": {
    "collapsed": false
   },
   "outputs": [
    {
     "data": {
      "text/plain": [
       "{(0, 0): 0.0,\n",
       " (0, 1): 0.0,\n",
       " (1, 0): 0.0,\n",
       " (0, 2): 0.0,\n",
       " (2, 0): 0.0,\n",
       " (0, 3): 0.0,\n",
       " (3, 0): 0.0,\n",
       " (0, 4): 0.0,\n",
       " (4, 0): 0.0,\n",
       " (0, 5): 0.0,\n",
       " (5, 0): 0.0,\n",
       " (0, 6): 0.0,\n",
       " (6, 0): 1.0,\n",
       " (0, 7): 0.0,\n",
       " (7, 0): 0.0,\n",
       " (0, 8): 0.0,\n",
       " (8, 0): 0.0,\n",
       " (1, 1): 0.0,\n",
       " (1, 2): 1.0,\n",
       " (2, 1): 0.0,\n",
       " (1, 3): 0.0,\n",
       " (3, 1): 0.0,\n",
       " (1, 4): 0.0,\n",
       " (4, 1): 0.0,\n",
       " (1, 5): 0.0,\n",
       " (5, 1): 0.0,\n",
       " (1, 6): 0.0,\n",
       " (6, 1): 0.0,\n",
       " (1, 7): 0.0,\n",
       " (7, 1): 0.0,\n",
       " (1, 8): 1.0,\n",
       " (8, 1): 0.0,\n",
       " (2, 2): 0.0,\n",
       " (2, 3): 0.0,\n",
       " (3, 2): 0.0,\n",
       " (2, 4): 0.0,\n",
       " (4, 2): 0.0,\n",
       " (2, 5): 0.0,\n",
       " (5, 2): 0.0,\n",
       " (2, 6): 0.0,\n",
       " (6, 2): 0.0,\n",
       " (2, 7): 0.0,\n",
       " (7, 2): 0.0,\n",
       " (2, 8): 0.0,\n",
       " (8, 2): 0.0,\n",
       " (3, 3): 0.0,\n",
       " (3, 4): 0.0,\n",
       " (4, 3): 0.0,\n",
       " (3, 5): 0.0,\n",
       " (5, 3): 0.0,\n",
       " (3, 6): 0.0,\n",
       " (6, 3): 1.0,\n",
       " (3, 7): 0.0,\n",
       " (7, 3): 0.0,\n",
       " (3, 8): 0.0,\n",
       " (8, 3): 0.0,\n",
       " (4, 4): 0.0,\n",
       " (4, 5): 1.0,\n",
       " (5, 4): 0.0,\n",
       " (4, 6): 0.0,\n",
       " (6, 4): 0.0,\n",
       " (4, 7): 1.0,\n",
       " (7, 4): 0.0,\n",
       " (4, 8): 0.0,\n",
       " (8, 4): 0.0,\n",
       " (5, 5): 0.0,\n",
       " (5, 6): 0.0,\n",
       " (6, 5): 0.0,\n",
       " (5, 7): 0.0,\n",
       " (7, 5): 0.0,\n",
       " (5, 8): 0.0,\n",
       " (8, 5): 0.0,\n",
       " (6, 6): 0.0,\n",
       " (6, 7): 0.0,\n",
       " (7, 6): 0.0,\n",
       " (6, 8): 0.0,\n",
       " (8, 6): 0.0,\n",
       " (7, 7): 0.0,\n",
       " (7, 8): 0.0,\n",
       " (8, 7): 0.0,\n",
       " (8, 8): 0.0}"
      ]
     },
     "execution_count": 76,
     "metadata": {
     },
     "output_type": "execute_result"
    }
   ],
   "source": [
    "povezave2 = clp2.get_values(y)\n",
    "povezave2"
   ]
  },
  {
   "cell_type": "code",
   "execution_count": 77,
   "metadata": {
    "collapsed": false
   },
   "outputs": [
   ],
   "source": [
    "G2 = Graph([e for e, v in clp2.get_values(y).items() if v == 1])\n",
    "G2._pos = p"
   ]
  },
  {
   "cell_type": "code",
   "execution_count": 78,
   "metadata": {
    "collapsed": false
   },
   "outputs": [
    {
     "data": {
      "image/png": "[encoded data removed]",
      "text/plain": [
       "Graphics object consisting of 16 graphics primitives"
      ]
     },
     "execution_count": 78,
     "metadata": {
     },
     "output_type": "execute_result"
    }
   ],
   "source": [
    "G2.plot()"
   ]
  },
  {
   "cell_type": "code",
   "execution_count": 0,
   "metadata": {
    "collapsed": false
   },
   "outputs": [
   ],
   "source": [
   ]
  },
  {
   "cell_type": "code",
   "execution_count": 0,
   "metadata": {
    "collapsed": false
   },
   "outputs": [
   ],
   "source": [
   ]
  },
  {
   "cell_type": "code",
   "execution_count": 0,
   "metadata": {
    "collapsed": false
   },
   "outputs": [
   ],
   "source": [
   ]
  }
 ],
 "metadata": {
  "kernelspec": {
   "display_name": "SageMath 9.4",
   "language": "sagemath",
   "metadata": {
    "cocalc": {
     "description": "Open-source mathematical software system",
     "priority": 10,
     "url": "https://www.sagemath.org/"
    }
   },
   "name": "sage-9.4",
   "resource_dir": "/ext/jupyter/kernels/sage-9.4"
  },
  "language_info": {
   "codemirror_mode": {
    "name": "ipython",
    "version": 3
   },
   "file_extension": ".py",
   "mimetype": "text/x-python",
   "name": "python",
   "nbconvert_exporter": "python",
   "pygments_lexer": "ipython3",
   "version": "3.9.5"
  }
 },
 "nbformat": 4,
 "nbformat_minor": 4
}